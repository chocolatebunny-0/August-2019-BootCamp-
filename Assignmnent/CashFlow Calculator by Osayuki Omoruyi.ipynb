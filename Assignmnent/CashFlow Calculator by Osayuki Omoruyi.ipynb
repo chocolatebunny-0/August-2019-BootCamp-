{
 "cells": [
  {
   "cell_type": "markdown",
   "metadata": {},
   "source": [
    "# Simple CashFlow Calculator"
   ]
  },
  {
   "cell_type": "code",
   "execution_count": 1,
   "metadata": {},
   "outputs": [
    {
     "name": "stdout",
     "output_type": "stream",
     "text": [
      "Would you like to know if your current cash flow can afford What you want to buy? Yes/No\n",
      "yes\n",
      "Please State The Amount for what you intend to buy (NGN)\n",
      "50\n",
      "How Much do you earn in a month?\n",
      "70000\n",
      "How Much do spend on transportation in a month?\n",
      "25000\n",
      "How Much do spend on recreational activities such as internet data, sweet mouth, and any of such, in a month?\n",
      "5000\n",
      "How Much do spend on feeding in a month?\n",
      "30000\n",
      "You most can afford to buy it in no soon time\n"
     ]
    }
   ],
   "source": [
    "flow = input('Would you like to know if your current cash flow can afford What you want to buy? Yes/No\\n')\n",
    "if flow == 'No':\n",
    "    print('Thanks, we hope to engage you another time')\n",
    "elif flow == 'no':\n",
    "    print('Thanks, we hope to engage you another time')\n",
    "elif flow == 'yes':\n",
    "    x = input('Please State The Amount for what you intend to buy (NGN)\\n')\n",
    "    int(x)\n",
    "    a1 = 'How Much do you earn in a month?\\n'\n",
    "    a = input(a1)\n",
    "    int(a)  \n",
    "    b1 = 'How Much do spend on transportation in a month?\\n'\n",
    "    b = input(b1)\n",
    "    int(b)\n",
    "    c1 = 'How Much do spend on recreational activities such as internet data, sweet mouth, and any of such, in a month?\\n'\n",
    "    c = input(c1)\n",
    "    int(c)\n",
    "    d1 = 'How Much do spend on feeding in a month?\\n'\n",
    "    d = input(d1)\n",
    "    int(d)\n",
    "    good = int(b)+int(c)+int(d)\n",
    "    bad = int(a) - good\n",
    "    fair = int(x)//3\n",
    "    if bad > fair:\n",
    "        print('You most can afford to buy it in no soon time')\n",
    "    else:\n",
    "        print('You should consider raising your earnings or look for a cheaper option')\n",
    "elif flow == 'Yes':\n",
    "    x = input('Please State The Amount for what you intend to buy (NGN)\\n')\n",
    "    int(x)\n",
    "    a1 = 'How Much do you earn in a month?\\n'\n",
    "    a = input(a1)\n",
    "    int(a)  \n",
    "    b1 = 'How Much do spend on transportation in a month?\\n'\n",
    "    b = input(b1)\n",
    "    int(b)\n",
    "    c1 = 'How Much do spend on recreational activities such as internet data, sweet mouth, and any of such, in a month?\\n'\n",
    "    c = input(c1)\n",
    "    int(c)\n",
    "    d1 = 'How Much do spend on feeding in a month?\\n'\n",
    "    d = input(d1)\n",
    "    int(d)\n",
    "    good = int(b)+int(c)+int(d)\n",
    "    bad = int(a) - good\n",
    "    fair = int(x)//3\n",
    "    if bad > fair:\n",
    "        print('You most can afford to buy it in no soon time')\n",
    "    else:\n",
    "        print('You should consider raising your earnings or look for a cheaper option')"
   ]
  },
  {
   "cell_type": "code",
   "execution_count": null,
   "metadata": {
    "collapsed": true
   },
   "outputs": [],
   "source": []
  }
 ],
 "metadata": {
  "kernelspec": {
   "display_name": "Python 3",
   "language": "python",
   "name": "python3"
  },
  "language_info": {
   "codemirror_mode": {
    "name": "ipython",
    "version": 3
   },
   "file_extension": ".py",
   "mimetype": "text/x-python",
   "name": "python",
   "nbconvert_exporter": "python",
   "pygments_lexer": "ipython3",
   "version": "3.6.3"
  }
 },
 "nbformat": 4,
 "nbformat_minor": 2
}
