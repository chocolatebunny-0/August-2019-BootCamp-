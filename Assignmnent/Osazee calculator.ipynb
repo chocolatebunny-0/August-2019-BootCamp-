{
 "cells": [
  {
   "cell_type": "code",
   "execution_count": 1,
   "metadata": {
    "collapsed": true
   },
   "outputs": [],
   "source": [
    "#this is a simple calculator using the if else statement and the elif statement"
   ]
  },
  {
   "cell_type": "code",
   "execution_count": 11,
   "metadata": {
    "collapsed": true
   },
   "outputs": [],
   "source": [
    "def calculator ():\n",
    "    print ('please input your first number:')\n",
    "    first= int(input('first number'))\n",
    "    print ('please input your second number')\n",
    "    second=int (input ('second number'))\n",
    "    print ('please input an operation')\n",
    "    operation= str(input('operation'))\n",
    "    if operation=='add':\n",
    "        print (first + second)\n",
    "    elif operation=='subtract':\n",
    "            print (first-second)\n",
    "    elif operation=='multiply':\n",
    "        print (first*second)\n",
    "    elif operation=='divide':\n",
    "        print (first/second)\n",
    "    else:\n",
    "        print ('you entered a wrong operation')\n",
    "        \n",
    "            "
   ]
  },
  {
   "cell_type": "code",
   "execution_count": 12,
   "metadata": {},
   "outputs": [
    {
     "name": "stdout",
     "output_type": "stream",
     "text": [
      "please input your first number:\n",
      "first number50\n",
      "please input your second number\n",
      "second number20\n",
      "please input an operation\n",
      "operationadd\n",
      "70\n"
     ]
    }
   ],
   "source": [
    "calculator()"
   ]
  },
  {
   "cell_type": "code",
   "execution_count": null,
   "metadata": {
    "collapsed": true
   },
   "outputs": [],
   "source": []
  }
 ],
 "metadata": {
  "kernelspec": {
   "display_name": "Python 3",
   "language": "python",
   "name": "python3"
  },
  "language_info": {
   "codemirror_mode": {
    "name": "ipython",
    "version": 3
   },
   "file_extension": ".py",
   "mimetype": "text/x-python",
   "name": "python",
   "nbconvert_exporter": "python",
   "pygments_lexer": "ipython3",
   "version": "3.6.3"
  }
 },
 "nbformat": 4,
 "nbformat_minor": 2
}
