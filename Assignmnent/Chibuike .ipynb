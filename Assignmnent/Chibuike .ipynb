{
 "cells": [
  {
   "cell_type": "code",
   "execution_count": null,
   "metadata": {
    "collapsed": true
   },
   "outputs": [],
   "source": [
    "def calculator():\n",
    "    def add(x, y):\n",
    "        return x + y\n",
    "    def subtract(x, y):\n",
    "        return x - y\n",
    "    def multiply(x, y):\n",
    "        return x * y\n",
    "    def divide(x, y):\n",
    "        return x / y\n",
    "    def exponent(x, y):\n",
    "        return x**y\n",
    "    def remainder(x, y):\n",
    "        return x % y\n",
    "    \n",
    "    while True:\n",
    "        print(\"Select operation\")\n",
    "        print(\"1.Add\")\n",
    "        print(\"2.Subtract\")\n",
    "        print(\"3.Multiply\")\n",
    "        print(\"4.Divide\")\n",
    "        print(\"5.Exponent\")\n",
    "        print(\"6.Remainder\")\n",
    "\n",
    "        choice = input(\"Enter choice(1/2/3/4/5/6):\")\n",
    "\n",
    "        p = int(input(\"Enter first number\\n\"))\n",
    "        q = int(input(\"Enter second number\\n\"))\n",
    "\n",
    "        if choice == '1':\n",
    "            print(p,\"+\",q,\"=\", add(p,q))\n",
    "        elif choice == '2':\n",
    "            print(p,\"-\",q,\"=\", subtract(p,q))\n",
    "        elif choice == '3':\n",
    "            print(p,\"*\",q,\"=\", multiply(p,q))\n",
    "        elif choice == '4':\n",
    "            print(p,\"/\",q,\"=\", divide(p,q))\n",
    "        elif choice == '5':\n",
    "            print(p,\"**\",q,\"=\", exponent(p,q))\n",
    "        elif choice == '6':\n",
    "            print(p,\"%\",q,\"=\", remainder(p,q))\n",
    "        else:\n",
    "            print(\"Invalid input\")\n",
    "            \n"
   ]
  },
  {
   "cell_type": "code",
   "execution_count": null,
   "metadata": {
    "collapsed": true
   },
   "outputs": [],
   "source": [
    "calculator()"
   ]
  },
  {
   "cell_type": "code",
   "execution_count": null,
   "metadata": {
    "collapsed": true
   },
   "outputs": [],
   "source": []
  }
 ],
 "metadata": {
  "kernelspec": {
   "display_name": "Python 3",
   "language": "python",
   "name": "python3"
  },
  "language_info": {
   "codemirror_mode": {
    "name": "ipython",
    "version": 3
   },
   "file_extension": ".py",
   "mimetype": "text/x-python",
   "name": "python",
   "nbconvert_exporter": "python",
   "pygments_lexer": "ipython3",
   "version": "3.6.3"
  }
 },
 "nbformat": 4,
 "nbformat_minor": 2
}
