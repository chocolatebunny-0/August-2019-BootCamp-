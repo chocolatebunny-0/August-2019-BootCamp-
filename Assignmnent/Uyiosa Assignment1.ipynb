{
 "cells": [
  {
   "cell_type": "markdown",
   "metadata": {},
   "source": [
    "# ASSIGNMENTS"
   ]
  },
  {
   "cell_type": "code",
   "execution_count": 1,
   "metadata": {},
   "outputs": [
    {
     "name": "stdout",
     "output_type": "stream",
     "text": [
      "Select Operation:\n",
      "1. Addition\n",
      "2. Subtraction\n",
      "3. Multiplication\n",
      "4. Division\n",
      "Select operation from 1, 2, 3, 4:\n",
      "1\n",
      "\n",
      "Input first number: 1\n",
      "input second number: 1\n",
      "Answer\n",
      "1.0 + 1.0 = 2.0\n"
     ]
    }
   ],
   "source": [
    "#Calculator Program\n",
    "\n",
    "#ADDITION\n",
    "def Add(number1, number2):\n",
    "    return number1 + number2\n",
    "\n",
    "#SUBTRACTION\n",
    "def Subtract(number1, number2):\n",
    "    return number1 - number2\n",
    "\n",
    "#MULTIPLICATION\n",
    "def Multiply(number1, number2):\n",
    "    return number1 * number2\n",
    "\n",
    "#DIVISION\n",
    "def Divide(number1, number2):\n",
    "    return number1 / number2\n",
    "\n",
    "#USER ENTER INPUT\n",
    "print('Select Operation:\\n'\n",
    "     '1. Addition\\n'\n",
    "     '2. Subtraction\\n'\n",
    "     '3. Multiplication\\n'\n",
    "     '4. Division')\n",
    "\n",
    "operation = input('Select operation from 1, 2, 3, 4:\\n')\n",
    "print( )\n",
    "number1 = float(input('Input first number: '))\n",
    "number2 = float(input('input second number: '))\n",
    "print('Answer')\n",
    "if operation == '1':\n",
    "    print(number1, '+', number2, '=',\n",
    "         Add(number1, number2))\n",
    "elif operation == '2':\n",
    "    print(number1, '-', number2, '=',\n",
    "         Subtract(number1, number2))\n",
    "elif operation == '3':\n",
    "    print(number1, '*', number2, '=',\n",
    "         Multiply(number1, number2))\n",
    "elif operation == '4':\n",
    "    print(number1, '/', number2, '=',\n",
    "         Divide(number1, number2))\n",
    "else:\n",
    "    print('Invalid Operation!!!')"
   ]
  },
  {
   "cell_type": "code",
   "execution_count": 2,
   "metadata": {},
   "outputs": [
    {
     "name": "stdout",
     "output_type": "stream",
     "text": [
      "Enter an integer from 1 to 99: 40\n",
      "Na so you like big things\n",
      "Enter an integer from 1 to 99: 30\n",
      "Ómo the guess low oh\n",
      "Enter an integer from 1 to 99: 43\n",
      "Na so you like big things\n",
      "Enter an integer from 1 to 99: 42\n",
      "Na so you like big things\n",
      "Enter an integer from 1 to 99: 41\n",
      "Na so you like big things\n",
      "Enter an integer from 1 to 99: 35\n",
      "Na so you like big things\n",
      "Enter an integer from 1 to 99: 33\n",
      "Correct guy! You sabi :)\n"
     ]
    }
   ],
   "source": [
    "#GUESSING GAME\n",
    "\n",
    "#import random imports the random module, which contains a variety of things to do with\n",
    "#random number generation.\n",
    "import random      \n",
    "n = random.randint(1, 99) #this defines the range\n",
    "\n",
    "#User input\n",
    "guess = int(input(\"Enter an integer from 1 to 99: \"))\n",
    "#!= is defined as not equal to operator. It returns true if operands on either side are not \n",
    "#equal to each other, and returns false if they are equal.\n",
    "while n != \"guess\":      #While loop runs the command till user guesses the correct answer\n",
    "\n",
    "#If the user's guess is less then the number\n",
    "    if guess < n:\n",
    "        print (\"Ómo the guess low oh\")\n",
    "        guess = int(input(\"Enter an integer from 1 to 99: \"))\n",
    "#If the user's guess is greater than the number\n",
    "    elif guess > n:\n",
    "        print (\"Na so you like big things\")\n",
    "        guess = int(input(\"Enter an integer from 1 to 99: \"))\n",
    "#If the user's guess is the number\n",
    "    else:\n",
    "        print (\"Correct guy! You sabi :)\")\n",
    "        break\n",
    "#End of Game"
   ]
  },
  {
   "cell_type": "markdown",
   "metadata": {},
   "source": [
    "# Lists are what they seem - a list of values.\n",
    "Each one of them is numbered, starting from zero - the first one is numbered zero, the second 1, the third 2, etc. You can remove values from the list, and add new values to the end. Example: Your many cats' names.\n",
    "\n",
    "# Tuples are just like lists, but you can't change their values.\n",
    "The values that you give it first up, are the values that you are stuck with for the rest of the program. Again, each value is numbered starting from zero, for easy reference. Example: the names of the months of the year.\n",
    "\n",
    "# Dictionaries are similar to what their name suggests - a dictionary.\n",
    "In a dictionary, you have an 'index' of words, and for each of them a definition. In python, the word is called a 'key', and the definition a 'value'. The values in a dictionary aren't numbered - tare similar to what their name suggests - a dictionary. In a dictionary, you have an 'index' of words, and for each of them a definition. In python, the word is called a 'key', and the definition a 'value'. The values in a dictionary aren't numbered - they aren't in any specific order, either - the key does the same thing. You can add, remove, and modify the values in dictionaries. Example: telephone book."
   ]
  }
 ],
 "metadata": {
  "kernelspec": {
   "display_name": "Python 3",
   "language": "python",
   "name": "python3"
  },
  "language_info": {
   "codemirror_mode": {
    "name": "ipython",
    "version": 3
   },
   "file_extension": ".py",
   "mimetype": "text/x-python",
   "name": "python",
   "nbconvert_exporter": "python",
   "pygments_lexer": "ipython3",
   "version": "3.7.3"
  }
 },
 "nbformat": 4,
 "nbformat_minor": 2
}
