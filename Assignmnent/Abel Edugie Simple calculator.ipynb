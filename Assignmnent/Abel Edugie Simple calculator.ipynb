{
 "cells": [
  {
   "cell_type": "code",
   "execution_count": null,
   "metadata": {},
   "outputs": [],
   "source": [
    "while True:\n",
    "    a = eval(input(\"Enter number: \\n\"))\n",
    "\n",
    "    op = input(\"Enter operator: \")\n",
    "\n",
    "    b = eval(input(\"Enter another number: \\n\"))\n",
    "    \n",
    "    print()\n",
    "    \n",
    "    if op == \"+\":\n",
    "        print(a, \"+\", b, \"=\", a + b)\n",
    "    elif op == \"-\":\n",
    "        print(a, \"-\", b, \"=\", a - b)\n",
    "    elif op == \"/\":\n",
    "        print(a, \"/\", b, \"=\", a / b)\n",
    "    elif op == \"*\":\n",
    "        print(a, \"*\", b, \"=\", a * b)\n",
    "    elif op == \"//\":\n",
    "        print(a, \"//\", b, \"=\", a // b)\n",
    "    elif op == \"%\":\n",
    "        print(a, \"%\", b, \"=\", a % b)\n",
    "    else:\n",
    "        print(\"Incorrect Entry! Try again!!\")\n",
    "    print()\n"
   ]
  },
  {
   "cell_type": "code",
   "execution_count": null,
   "metadata": {},
   "outputs": [],
   "source": [
    "# list example\n",
    "fruits = [\"Orange\", \"Mango\", \"Apple\"]"
   ]
  },
  {
   "cell_type": "code",
   "execution_count": null,
   "metadata": {},
   "outputs": [],
   "source": [
    "# dictionary example\n",
    "data = {\"country\": [\"Nigeria\", \"Spain\", \"Ranking\"],\n",
    "       \"continent\": [\"Africa\", \"Europe\", \"Asia\"],\n",
    "       \"Ranking\": [1, 4, 10]}"
   ]
  }
 ],
 "metadata": {
  "kernelspec": {
   "display_name": "Python 3",
   "language": "python",
   "name": "python3"
  },
  "language_info": {
   "codemirror_mode": {
    "name": "ipython",
    "version": 3
   },
   "file_extension": ".py",
   "mimetype": "text/x-python",
   "name": "python",
   "nbconvert_exporter": "python",
   "pygments_lexer": "ipython3",
   "version": "3.7.1"
  }
 },
 "nbformat": 4,
 "nbformat_minor": 2
}
