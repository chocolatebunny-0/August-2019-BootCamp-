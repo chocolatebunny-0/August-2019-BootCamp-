{
 "cells": [
  {
   "cell_type": "markdown",
   "metadata": {},
   "source": [
    "\n",
    "# ASSIGNMENT #2\n",
    "\n",
    "## using operators and conditions, create a simple calculator program for 2 numbers (input)"
   ]
  },
  {
   "cell_type": "code",
   "execution_count": 1,
   "metadata": {},
   "outputs": [
    {
     "name": "stdout",
     "output_type": "stream",
     "text": [
      "Enter Your First Number\n",
      "1\n",
      "Enter Sign\n",
      "-\n",
      "Enter Your Last Number\n",
      "5\n",
      "-4\n"
     ]
    }
   ],
   "source": [
    "x = input('Enter Your First Number\\n')\n",
    "operator = input('Enter Sign\\n') \n",
    "y = input('Enter Your Last Number\\n')  \n",
    "\n",
    "if operator == '+':\n",
    "    print(int(x) + int(y)) \n",
    "elif operator == '*':\n",
    "    print(int(x) * int(y))\n",
    "elif operator == '/':\n",
    "    print(int(x) / int(y))\n",
    "elif operator == '-':\n",
    "    print(int(x) - int(y))  \n",
    "elif operator == '//':\n",
    "    print(int(x) // int(y))\n",
    "elif operator == '%':\n",
    "    print(int(x) % int(y)) \n",
    "else:\n",
    "    print('oga! that one too hard for my calculator joor!') "
   ]
  },
  {
   "cell_type": "code",
   "execution_count": null,
   "metadata": {},
   "outputs": [],
   "source": []
  },
  {
   "cell_type": "markdown",
   "metadata": {},
   "source": [
    "# ASSIGNMENT 3 \n",
    "\n",
    "## differentiate between a List, Tuple and  a Dictionary"
   ]
  },
  {
   "cell_type": "code",
   "execution_count": null,
   "metadata": {},
   "outputs": [],
   "source": [
    "1. Unlike Tuples, Lists and Dictionaries and mutable/changeable (i.e you can \"add to\" or \"replace\" their elements after they are assigned)\n"
   ]
  },
  {
   "cell_type": "code",
   "execution_count": null,
   "metadata": {},
   "outputs": [],
   "source": [
    "2. Tuples and Lists can be accessed by indexing []"
   ]
  },
  {
   "cell_type": "code",
   "execution_count": null,
   "metadata": {},
   "outputs": [],
   "source": [
    "3. elements in Lists are represented in square brackets [], Tuples in parenthesis () and Dictionaries in curly braces {}"
   ]
  }
 ],
 "metadata": {
  "kernelspec": {
   "display_name": "Python 3",
   "language": "python",
   "name": "python3"
  },
  "language_info": {
   "codemirror_mode": {
    "name": "ipython",
    "version": 3
   },
   "file_extension": ".py",
   "mimetype": "text/x-python",
   "name": "python",
   "nbconvert_exporter": "python",
   "pygments_lexer": "ipython3",
   "version": "3.6.4"
  }
 },
 "nbformat": 4,
 "nbformat_minor": 2
}
