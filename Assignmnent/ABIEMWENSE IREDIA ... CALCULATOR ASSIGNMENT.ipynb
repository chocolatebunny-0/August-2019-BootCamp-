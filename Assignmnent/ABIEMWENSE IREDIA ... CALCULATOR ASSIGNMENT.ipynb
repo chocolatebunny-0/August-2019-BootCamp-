{
 "cells": [
  {
   "cell_type": "code",
   "execution_count": null,
   "metadata": {},
   "outputs": [
    {
     "name": "stdout",
     "output_type": "stream",
     "text": [
      "1. Addition\n",
      "2. Subtraction\n",
      "3. Multiplication\n",
      "4. Division\n",
      "5. Exit\n",
      "Enter your choice bright girl/boy2\n",
      "Enter two numbers: \n",
      "1\n",
      "1\n",
      "Result =  0\n",
      "1. Addition\n",
      "2. Subtraction\n",
      "3. Multiplication\n",
      "4. Division\n",
      "5. Exit\n",
      "Enter your choice bright girl/boy3\n",
      "Enter two numbers: \n",
      "10\n",
      "3\n",
      "Result =  30\n",
      "1. Addition\n",
      "2. Subtraction\n",
      "3. Multiplication\n",
      "4. Division\n",
      "5. Exit\n"
     ]
    }
   ],
   "source": [
    "while True:\n",
    "    print(\"1. Addition\")\n",
    "    print(\"2. Subtraction\")\n",
    "    print(\"3. Multiplication\")\n",
    "    print(\"4. Division\")\n",
    "    print(\"5. Exit\")\n",
    "    choice = int(input(\"Enter your choice bright girl/boy\"))\n",
    "    if (choice>=1 and choice<=4):\n",
    "        print(\"Enter two numbers: \")\n",
    "        num1 = int(input())\n",
    "        num2 = int(input())\n",
    "        if choice == 1:\n",
    "          res = num1 + num2\n",
    "          print(\"Result = \", res)\n",
    "        elif choice == 2:\n",
    "          res = num1 - num2\n",
    "          print(\"Result = \", res)\n",
    "        elif choice == 3:\n",
    "          res = num1 * num2\n",
    "          print(\"Result = \", res)\n",
    "        elif choice == 4:\n",
    "          res = num1 / num2\n",
    "          print(\"Result = \", res)\n",
    "        elif choice == 5:\n",
    "          break\n",
    "        else:\n",
    "          print(\"wrong input.....bright girl\\boy!!\")\n",
    "        \n",
    "    \n",
    "          "
   ]
  },
  {
   "cell_type": "code",
   "execution_count": null,
   "metadata": {
    "collapsed": true
   },
   "outputs": [],
   "source": []
  }
 ],
 "metadata": {
  "kernelspec": {
   "display_name": "Python 3",
   "language": "python",
   "name": "python3"
  },
  "language_info": {
   "codemirror_mode": {
    "name": "ipython",
    "version": 3
   },
   "file_extension": ".py",
   "mimetype": "text/x-python",
   "name": "python",
   "nbconvert_exporter": "python",
   "pygments_lexer": "ipython3",
   "version": "3.6.3"
  }
 },
 "nbformat": 4,
 "nbformat_minor": 2
}
