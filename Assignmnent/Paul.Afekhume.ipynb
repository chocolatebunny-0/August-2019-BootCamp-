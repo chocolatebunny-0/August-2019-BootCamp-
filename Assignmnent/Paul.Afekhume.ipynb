{
 "cells": [
  {
   "cell_type": "code",
   "execution_count": null,
   "metadata": {},
   "outputs": [],
   "source": [
    "X=int(input('Number 1: '))\n",
    "Y=int(input('Number 2: '))\n",
    "operator=input('operator: ')\n",
    "if operator== '+':\n",
    "    print(X+Y)\n",
    "elif operator=='_':\n",
    "    print(X-Y)\n",
    "elif operator=='*':\n",
    "    print(X*Y)\n",
    "elif operator=='/':\n",
    "    print(X/Y)\n",
    "elif operator=='//':\n",
    "    print(X//Y)\n",
    "elif operator=='%':\n",
    "    print(X%Y)\n",
    "elif operator=='**':\n",
    "    print(X**Y)\n",
    "else:\n",
    "    print('entire operator')\n"
   ]
  }
 ],
 "metadata": {
  "kernelspec": {
   "display_name": "Python 3",
   "language": "python",
   "name": "python3"
  },
  "language_info": {
   "codemirror_mode": {
    "name": "ipython",
    "version": 3
   },
   "file_extension": ".py",
   "mimetype": "text/x-python",
   "name": "python",
   "nbconvert_exporter": "python",
   "pygments_lexer": "ipython3",
   "version": "3.6.5"
  }
 },
 "nbformat": 4,
 "nbformat_minor": 2
}
