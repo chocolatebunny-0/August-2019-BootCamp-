{
 "cells": [
  {
   "cell_type": "code",
   "execution_count": 21,
   "metadata": {},
   "outputs": [
    {
     "ename": "SyntaxError",
     "evalue": "invalid syntax (<ipython-input-21-8b04edabd29c>, line 2)",
     "output_type": "error",
     "traceback": [
      "\u001b[1;36m  File \u001b[1;32m\"<ipython-input-21-8b04edabd29c>\"\u001b[1;36m, line \u001b[1;32m2\u001b[0m\n\u001b[1;33m    DIFFERENTIATE BETWEEN A TUPLE, LIST AND A DICTIONARY\u001b[0m\n\u001b[1;37m                        ^\u001b[0m\n\u001b[1;31mSyntaxError\u001b[0m\u001b[1;31m:\u001b[0m invalid syntax\n"
     ]
    }
   ],
   "source": [
    "ASSIGNMENT\n",
    "DIFFERENTIATE BETWEEN A TUPLE, LIST AND A DICTIONARY\n",
    "\n",
    "A LIST IS VARIABLE NAME THAT IS USE TO HOLD INFORMATION THAT ARE SIMILAR IN A WAY. IT IS USUALLY USE WITH A SQUARE BRACKET []\n",
    "names_of_state = ['Benin', 'Delta', 'Lagos', 'Kaduna', 'Kano']\n",
    "print(names_of_state)\n",
    "['Benin', 'Delta', 'Lagos', 'Kaduna', 'Kano']\n",
    "rom it\n",
    "names_of_state.append('Imo')      #list are mutable, meaning information can be added or remove from it\n",
    "_state\n",
    "print(names_of_state)\n",
    "['Benin', 'Delta', 'Lagos', 'Kaduna', 'Kano', 'Imo', 'Imo']\n",
    "A TUPLE IS JUST LIKE A LIST, BUT IT IS IMMUTABLE, WE USE BOTH SQUARE BRACKET AND OUR NORMAL PARENTHESIS,\n",
    "tuple = ('Benin', 'Delta', 'Lagos', 'Kaduna', 'Kano')\n",
    "tuple\n",
    "print(tuple)\n",
    "('Benin', 'Delta', 'Lagos', 'Kaduna', 'Kano')\n",
    "A DICTIONARY CONTAIN SEVERAL LIST, WE USE CURLEY BRACKET TO CREATE DICTIONARY\n",
    "\n",
    "Kano\n",
    "dict = {names_of_state = ['Edo', 'Delta', 'Lagos', 'Kaduna', 'Kano'], serial = [1,2,3,4,5], capital = ['Benin', 'Asaba', 'Ikeja', 'Katsina', 'Kano' ]}\n",
    "  File \"<ipython-input-14-0e9822a81616>\", line 1\n",
    "    dict = {names_of_state = ['Edo', 'Delta', 'Lagos', 'Kaduna', 'Kano'], serial = [1,2,3,4,5], capital = ['Benin', 'Asaba', 'Ikeja', 'Katsina', 'Kano' ]}\n",
    "                           ^\n",
    "SyntaxError: invalid syntax\n",
    "\n"
   ]
  },
  {
   "cell_type": "markdown",
   "metadata": {},
   "source": [
    "# SIMPLE CALCULATOR PROJECT"
   ]
  },
  {
   "cell_type": "code",
   "execution_count": 15,
   "metadata": {},
   "outputs": [],
   "source": [
    "def add(x,y):\n",
    "    return x + y"
   ]
  },
  {
   "cell_type": "code",
   "execution_count": 16,
   "metadata": {},
   "outputs": [],
   "source": [
    "def sub(x,y):\n",
    "    return x - y"
   ]
  },
  {
   "cell_type": "code",
   "execution_count": 17,
   "metadata": {},
   "outputs": [],
   "source": [
    "def mult(x,y):\n",
    "    return x * y"
   ]
  },
  {
   "cell_type": "code",
   "execution_count": 18,
   "metadata": {},
   "outputs": [],
   "source": [
    "def div(x,y):\n",
    "    return x / y"
   ]
  },
  {
   "cell_type": "code",
   "execution_count": 19,
   "metadata": {},
   "outputs": [
    {
     "name": "stdout",
     "output_type": "stream",
     "text": [
      "select operation\n",
      "1.add\n",
      "2.subtract\n",
      "3.mult\n",
      "4.div\n",
      "enter choice (1/2/3/4):1\n",
      "enter first number:4\n",
      "enter second number:4\n",
      "4 + 4 = 8\n"
     ]
    }
   ],
   "source": [
    "print('select operation')\n",
    "print('1.add')\n",
    "print('2.subtract')\n",
    "print('3.mult')\n",
    "print('4.div')\n",
    "\n",
    "choice = input('enter choice (1/2/3/4):')\n",
    "num1 = int(input('enter first number:'))\n",
    "num2 = int(input('enter second number:'))\n",
    "\n",
    "if choice == '1':\n",
    "    print(num1, '+', num2, '=', add (num1, num2))\n",
    "    \n",
    "elif choice == '2':\n",
    "    print(num1, '-', num2, '=', sub (num1, num2))\n",
    "\n",
    "elif choice == '3':\n",
    "    print(num1, '*', num2, '=', mult (num1, num2))\n",
    "elif choice == '4':\n",
    "    print(num1, '+', num2, '=', div(num1, num2))\n",
    "else:\n",
    "    print('invalid input')"
   ]
  },
  {
   "cell_type": "code",
   "execution_count": null,
   "metadata": {},
   "outputs": [],
   "source": []
  }
 ],
 "metadata": {
  "kernelspec": {
   "display_name": "Python 3",
   "language": "python",
   "name": "python3"
  },
  "language_info": {
   "codemirror_mode": {
    "name": "ipython",
    "version": 3
   },
   "file_extension": ".py",
   "mimetype": "text/x-python",
   "name": "python",
   "nbconvert_exporter": "python",
   "pygments_lexer": "ipython3",
   "version": "3.6.4"
  }
 },
 "nbformat": 4,
 "nbformat_minor": 2
}
