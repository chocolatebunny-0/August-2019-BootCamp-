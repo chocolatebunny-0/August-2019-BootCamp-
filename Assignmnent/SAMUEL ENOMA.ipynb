{
 "cells": [
  {
   "cell_type": "markdown",
   "metadata": {},
   "source": [
    "# Assignment\n",
    "# Code a simple calculator using if, elif, else command."
   ]
  },
  {
   "cell_type": "code",
   "execution_count": null,
   "metadata": {},
   "outputs": [],
   "source": [
    "while True:\n",
    "    a = eval(input(\"Enter number: \\n\"))\n",
    "\n",
    "    op = input(\"Enter operator: \")\n",
    "\n",
    "    b = eval(input(\"Enter another number: \\n\"))\n",
    "    \n",
    "    print()\n",
    "    \n",
    "    if op == \"*\":\n",
    "        print(a, \"*\", b, \"=\", a * b)\n",
    "    elif op == \"/\":\n",
    "        print(a, \"/\", b, \"=\", a / b)\n",
    "    else:\n",
    "        print(\"Invalid Entry! Opps!\")\n",
    "    print()"
   ]
  },
  {
   "cell_type": "code",
   "execution_count": null,
   "metadata": {},
   "outputs": [],
   "source": []
  }
 ],
 "metadata": {
  "kernelspec": {
   "display_name": "Python 3",
   "language": "python",
   "name": "python3"
  }
 },
 "nbformat": 4,
 "nbformat_minor": 2
}
