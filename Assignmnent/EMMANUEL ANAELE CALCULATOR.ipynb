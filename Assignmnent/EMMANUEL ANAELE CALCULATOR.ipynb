{
 "cells": [
  {
   "cell_type": "code",
   "execution_count": null,
   "metadata": {},
   "outputs": [
    {
     "name": "stdout",
     "output_type": "stream",
     "text": [
      "1. +\n",
      "2. -\n",
      "3. *\n",
      "4. /\n",
      "5. Exit\n",
      "Enter sign dull boy\\girl1\n",
      "Enter two numbers: \n",
      "2\n",
      "6\n",
      "Result =  8\n",
      "1. +\n",
      "2. -\n",
      "3. *\n",
      "4. /\n",
      "5. Exit\n"
     ]
    }
   ],
   "source": [
    "while True:\n",
    "    print(\"1. +\")\n",
    "    print(\"2. -\")\n",
    "    print(\"3. *\")\n",
    "    print(\"4. /\")\n",
    "    print(\"5. Exit\")\n",
    "    choice = int(input(\"Enter sign dull boy\\girl\"))\n",
    "    if (choice>=1 and choice<=4):\n",
    "        print(\"Enter two numbers: \")\n",
    "        num1 = int(input())\n",
    "        num2 = int(input()) \n",
    "        if choice == 1:\n",
    "            cal = num1 + num2\n",
    "            print(\"Result = \", cal)\n",
    "        elif choice == 2:\n",
    "            res = num1 - num2\n",
    "            print(\"Result = \", cal)\n",
    "        elif choice == 3:\n",
    "            res = num1 * num2\n",
    "            print(\"Result = \", cal)\n",
    "        elif choice == 4:\n",
    "            res = num1 / num2\n",
    "            print(\"Result = \", cal)\n",
    "    elif choice == 5:\n",
    "        break\n",
    "    else:\n",
    "        print(\"YOU TOO DULL.....!!\") "
   ]
  },
  {
   "cell_type": "code",
   "execution_count": null,
   "metadata": {
    "collapsed": true
   },
   "outputs": [],
   "source": []
  },
  {
   "cell_type": "code",
   "execution_count": null,
   "metadata": {
    "collapsed": true
   },
   "outputs": [],
   "source": []
  }
 ],
 "metadata": {
  "kernelspec": {
   "display_name": "Python 3",
   "language": "python",
   "name": "python3"
  },
  "language_info": {
   "codemirror_mode": {
    "name": "ipython",
    "version": 3
   },
   "file_extension": ".py",
   "mimetype": "text/x-python",
   "name": "python",
   "nbconvert_exporter": "python",
   "pygments_lexer": "ipython3",
   "version": "3.6.3"
  }
 },
 "nbformat": 4,
 "nbformat_minor": 2
}
