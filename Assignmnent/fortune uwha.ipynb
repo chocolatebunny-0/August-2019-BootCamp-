{
 "cells": [
  {
   "cell_type": "code",
   "execution_count": null,
   "metadata": {},
   "outputs": [],
   "source": [
    "def calculate():\n",
    "    operation = input('''please type in the math operation you would like to complete:\n",
    "    + for addition\n",
    "    - for subtraction\n",
    "    * for multiplication\n",
    "    / for division\n",
    "    ** for power\n",
    "    % for modulus''')\n",
    "\n",
    "    # Asking user for input\n",
    "    number1 = int(input('Enter your first number: '))\n",
    "    number2 = int(input('Enter your second number:'))\n",
    "    if operation == '+':\n",
    "        print('{} + {} = '.format(number1,number2))\n",
    "        print(number1 + number2)\n",
    "    elif operation == '-':\n",
    "        print('{} - {} = '.format(number1,number2))\n",
    "        print(number1 - number2)\n",
    "    elif operation == '*':\n",
    "        print('{} * {} = '.format(number1,number2))\n",
    "        print(number1 * number2)\n",
    "    elif operation == '/':\n",
    "        print('{} / {} = '.format(number1,number2))\n",
    "        print(number1 / number2)\n",
    "    elif operation == '**':\n",
    "        print('{} ** {} = '.format(number1,number2))\n",
    "        print(number1 ** number2)\n",
    "    elif operation == '%':\n",
    "        print('{} % {} = '.format(number1,number2))\n",
    "        print(number1 % number2)\n",
    "    else:\n",
    "        print('you have not typed a valid operator,please run the program again.')\n",
    "        "
   ]
  },
  {
   "cell_type": "code",
   "execution_count": null,
   "metadata": {},
   "outputs": [],
   "source": [
    "calculate()"
   ]
  },
  {
   "cell_type": "code",
   "execution_count": null,
   "metadata": {},
   "outputs": [],
   "source": []
  }
 ],
 "metadata": {
  "kernelspec": {
   "display_name": "Python 3",
   "language": "python",
   "name": "python3"
  },
  "language_info": {
   "codemirror_mode": {
    "name": "ipython",
    "version": 3
   },
   "file_extension": ".py",
   "mimetype": "text/x-python",
   "name": "python",
   "nbconvert_exporter": "python",
   "pygments_lexer": "ipython3",
   "version": "3.7.3"
  }
 },
 "nbformat": 4,
 "nbformat_minor": 2
}
