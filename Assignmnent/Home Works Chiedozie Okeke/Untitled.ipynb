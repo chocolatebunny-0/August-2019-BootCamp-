{
 "cells": [
  {
   "cell_type": "markdown",
   "metadata": {},
   "source": [
    "# Calculator_Homework"
   ]
  },
  {
   "cell_type": "code",
   "execution_count": 3,
   "metadata": {},
   "outputs": [
    {
     "ename": "SyntaxError",
     "evalue": "invalid syntax (<ipython-input-3-e0a0b1b58b03>, line 26)",
     "output_type": "error",
     "traceback": [
      "\u001b[1;36m  File \u001b[1;32m\"<ipython-input-3-e0a0b1b58b03>\"\u001b[1;36m, line \u001b[1;32m26\u001b[0m\n\u001b[1;33m    else:\u001b[0m\n\u001b[1;37m       ^\u001b[0m\n\u001b[1;31mSyntaxError\u001b[0m\u001b[1;31m:\u001b[0m invalid syntax\n"
     ]
    }
   ],
   "source": [
    "# python program- making a simple calculator.\n",
    "\n",
    "print(\"1.addition\");\n",
    "print(\"2. subtraction\");\n",
    "print(\"3. multiplication\");\n",
    "print(\"4. division\");\n",
    "print(\"5. Exit\");\n",
    "choice = int(input(\"Enter your choice: \"));\n",
    "if (choice>=1 and choice<=4):\n",
    "    print(\"Enter two numbers: \");\n",
    "    num1 =int(input());\n",
    "    num2 =int(input());\n",
    "    if choice == 1:\n",
    "        res = num1 + num2;\n",
    "        print(\"Result = \", res);\n",
    "    elif choice == 2:\n",
    "        res = num1 - num2;\n",
    "        print(\"Result = \", res);\n",
    "    elif choice == 3:\n",
    "        res = num1 * num2;\n",
    "        print(\"Result = \", res);\n",
    "    else:\n",
    "        res = num1 / num2;\n",
    "        print(\"Result = \", res);\n",
    "        \n",
    "        exit();\n",
    "    else:\n",
    "        print(\"Wrong input..!!\");\n"
   ]
  },
  {
   "cell_type": "code",
   "execution_count": null,
   "metadata": {
    "collapsed": true
   },
   "outputs": [],
   "source": []
  }
 ],
 "metadata": {
  "kernelspec": {
   "display_name": "Python 3",
   "language": "python",
   "name": "python3"
  },
  "language_info": {
   "codemirror_mode": {
    "name": "ipython",
    "version": 3
   },
   "file_extension": ".py",
   "mimetype": "text/x-python",
   "name": "python",
   "nbconvert_exporter": "python",
   "pygments_lexer": "ipython3",
   "version": "3.6.3"
  }
 },
 "nbformat": 4,
 "nbformat_minor": 2
}
