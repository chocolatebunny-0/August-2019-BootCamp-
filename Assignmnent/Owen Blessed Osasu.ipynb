{
 "cells": [
  {
   "cell_type": "code",
   "execution_count": 6,
   "metadata": {},
   "outputs": [
    {
     "name": "stdout",
     "output_type": "stream",
     "text": [
      "enter number a\n",
      "6\n",
      "enter number b\n",
      "3\n",
      "operator/\n",
      "2.0\n"
     ]
    }
   ],
   "source": [
    "a = int(input('enter number a\\n'))\n",
    "b = int(input('enter number b\\n'))\n",
    "operator = input('operator')\n",
    "if operator == '+':\n",
    "    print(a + b)\n",
    "elif operator == '/':\n",
    "    print(a / b)\n",
    "elif operator == '-':\n",
    "    print(a - b)\n",
    "elif operator == '*':\n",
    "    print(a * b)\n",
    "else:\n",
    "    print('synthax error')"
   ]
  },
  {
   "cell_type": "code",
   "execution_count": null,
   "metadata": {},
   "outputs": [],
   "source": []
  }
 ],
 "metadata": {
  "kernelspec": {
   "display_name": "Python 3",
   "language": "python",
   "name": "python3"
  },
  "language_info": {
   "codemirror_mode": {
    "name": "ipython",
    "version": 3
   },
   "file_extension": ".py",
   "mimetype": "text/x-python",
   "name": "python",
   "nbconvert_exporter": "python",
   "pygments_lexer": "ipython3",
   "version": "3.6.4"
  }
 },
 "nbformat": 4,
 "nbformat_minor": 2
}
