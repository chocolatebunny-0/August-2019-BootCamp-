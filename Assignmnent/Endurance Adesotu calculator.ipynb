{
 "cells": [
  {
   "cell_type": "markdown",
   "metadata": {},
   "source": [
    "# Assignment"
   ]
  },
  {
   "cell_type": "code",
   "execution_count": 1,
   "metadata": {},
   "outputs": [],
   "source": [
    "def value(adult_bmi):\n",
    "    if adult_bmi<18.5:\n",
    "        print(\"you are underweight, you need good food\")\n",
    "    elif 18.5<= adult_bmi<= 24.9:\n",
    "        print(\"your weight is normal, good job!!\")\n",
    "    elif 25<=adult_bmi<=30:\n",
    "        print(\"You are overweight, please start controlling it now!!\")\n",
    "        print(\"the normal bmi for your age is between 18.5 to 25\")\n",
    "    else:\n",
    "        print(\"You are obese my dear, I'm sorry\")\n",
    "        print(\"the normal bmi for your age is between 18.5 to 25\")\n"
   ]
  },
  {
   "cell_type": "code",
   "execution_count": null,
   "metadata": {},
   "outputs": [],
   "source": [
    "a = input('Enter your year of birth: \\n')\n",
    "age= 2019- int(a)\n",
    "w= int(input('Enter your weight in kg: \\n'))\n",
    "h= int(input('Enter your height in cm: \\n'))\n",
    "adult_bmi=(w/h/h)*10000\n",
    "if age <18:\n",
    "    print(\"this calculator is meant for adults only\")\n",
    "else:\n",
    "    print(\"you are {} years old, and:  \".format(age))\n",
    "    value(adult_bmi)\n"
   ]
  }
 ],
 "metadata": {
  "kernelspec": {
   "display_name": "Python 3",
   "language": "python",
   "name": "python3"
  },
  "language_info": {
   "codemirror_mode": {
    "name": "ipython",
    "version": 3
   },
   "file_extension": ".py",
   "mimetype": "text/x-python",
   "name": "python",
   "nbconvert_exporter": "python",
   "pygments_lexer": "ipython3",
   "version": "3.7.3"
  }
 },
 "nbformat": 4,
 "nbformat_minor": 2
}
