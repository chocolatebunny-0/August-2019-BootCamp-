{
 "cells": [
  {
   "cell_type": "code",
   "execution_count": 1,
   "metadata": {
    "collapsed": true
   },
   "outputs": [],
   "source": [
    "#this is a simple calculator using the if else statement and the elif statement"
   ]
  },
  {
   "cell_type": "code",
   "execution_count": 1,
   "metadata": {},
   "outputs": [],
   "source": [
    "def calculator ():\n",
    "    print ('please input your first number:')\n",
    "    first= int(input('first number'))\n",
    "    print ('please input your second number')\n",
    "    second=int (input ('second number'))\n",
    "    print ('please input an operation')\n",
    "    operation= str(input('operation'))\n",
    "    if operation=='add':\n",
    "        print (first + second)\n",
    "    elif operation=='subtract':\n",
    "            print (first-second)\n",
    "    elif operation=='multiply':\n",
    "        print (first*second)\n",
    "    elif operation=='divide':\n",
    "        print (first/second)\n",
    "    else:\n",
    "        print ('you entered a wrong operation')\n",
    "        \n",
    "            "
   ]
  },
  {
   "cell_type": "code",
   "execution_count": 5,
   "metadata": {},
   "outputs": [
    {
     "name": "stdout",
     "output_type": "stream",
     "text": [
      "please input your first number:\n",
      "first number15\n",
      "please input your second number\n",
      "second number25\n",
      "please input an operation\n",
      "operationadd\n",
      "40\n"
     ]
    }
   ],
   "source": [
    "calculator()"
   ]
  },
  {
   "cell_type": "code",
   "execution_count": 6,
   "metadata": {},
   "outputs": [
    {
     "name": "stdout",
     "output_type": "stream",
     "text": [
      "please input your first number:\n",
      "first number100\n",
      "please input your second number\n",
      "second number10\n",
      "please input an operation\n",
      "operationdivide\n",
      "10.0\n"
     ]
    }
   ],
   "source": [
    "calculator()"
   ]
  },
  {
   "cell_type": "code",
   "execution_count": 7,
   "metadata": {},
   "outputs": [
    {
     "name": "stdout",
     "output_type": "stream",
     "text": [
      "please input your first number:\n",
      "first number81\n",
      "please input your second number\n",
      "second number9\n",
      "please input an operation\n",
      "operationdivide\n",
      "9.0\n"
     ]
    }
   ],
   "source": [
    "calculator()"
   ]
  },
  {
   "cell_type": "code",
   "execution_count": 8,
   "metadata": {},
   "outputs": [
    {
     "name": "stdout",
     "output_type": "stream",
     "text": [
      "please input your first number:\n",
      "first number12\n",
      "please input your second number\n",
      "second number12\n",
      "please input an operation\n",
      "operationmultiply\n",
      "144\n"
     ]
    }
   ],
   "source": [
    "calculator()"
   ]
  },
  {
   "cell_type": "code",
   "execution_count": null,
   "metadata": {},
   "outputs": [],
   "source": []
  },
  {
   "cell_type": "code",
   "execution_count": null,
   "metadata": {},
   "outputs": [],
   "source": []
  },
  {
   "cell_type": "code",
   "execution_count": null,
   "metadata": {
    "collapsed": true
   },
   "outputs": [],
   "source": []
  }
 ],
 "metadata": {
  "kernelspec": {
   "display_name": "Python 3",
   "language": "python",
   "name": "python3"
  },
  "language_info": {
   "codemirror_mode": {
    "name": "ipython",
    "version": 3
   },
   "file_extension": ".py",
   "mimetype": "text/x-python",
   "name": "python",
   "nbconvert_exporter": "python",
   "pygments_lexer": "ipython3",
   "version": "3.7.1"
  }
 },
 "nbformat": 4,
 "nbformat_minor": 2
}
