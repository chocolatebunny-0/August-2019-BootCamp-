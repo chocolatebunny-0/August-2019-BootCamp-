{
 "cells": [
  {
   "cell_type": "markdown",
   "metadata": {},
   "source": [
    "# Assignment\n",
    "\n",
    "# Use if, elif and else to create a simple computer"
   ]
  },
  {
   "cell_type": "code",
   "execution_count": null,
   "metadata": {},
   "outputs": [],
   "source": [
    "while True:\n",
    "    a = eval(input('enter a number: \\n'))\n",
    "    o = input('enetr an operator: \\n')\n",
    "    b = eval(input('enter another number: \\n'))\n",
    "    print()\n",
    "    if o == '+':\n",
    "             print(a, '+', b, '=', a+b)\n",
    "    elif o == '-':\n",
    "             print(a, '-', b, '=', a-b)\n",
    "    elif o == '*':\n",
    "             print(a, '*', b, '*', a*b)\n",
    "    elif o == '/':\n",
    "             print(a, '/', b, '/', a/b)\n",
    "    else:\n",
    "         print('wrong enrty! :(')\n",
    "    print()"
   ]
  },
  {
   "cell_type": "code",
   "execution_count": null,
   "metadata": {},
   "outputs": [],
   "source": []
  }
 ],
 "metadata": {
  "kernelspec": {
   "display_name": "Python 3",
   "language": "python",
   "name": "python3"
  },
  "language_info": {
   "codemirror_mode": {
    "name": "ipython",
    "version": 3
   },
   "file_extension": ".py",
   "mimetype": "text/x-python",
   "name": "python",
   "nbconvert_exporter": "python",
   "pygments_lexer": "ipython3",
   "version": "3.7.0"
  }
 },
 "nbformat": 4,
 "nbformat_minor": 2
}
