{
 "cells": [
  {
   "cell_type": "markdown",
   "metadata": {},
   "source": [
    "# Write down the difference between tuple,List and dictionary and give examples"
   ]
  },
  {
   "cell_type": "markdown",
   "metadata": {},
   "source": [
    "### List: are what they seem i.e a list of values. Each one of them is numbered,starting from zero-the first one is #### numbered Zero, the second is 1, the third is 2 etc. are kept in squre brackets [ ]\n",
    "\n",
    "### Tuples: are just list, but you cannot change thier values. The values that you give it first up, are the vaues\n",
    "#### you stuck with for the rest of the program, and also each value is numbered starting from zero  for eassy reference.are ket in ( )\n",
    "\n",
    "### Dictionaries: are similar to what thier names suggests- a dictionary i.e you have an 'index' of words and for \n",
    "##### each of them a definiton. in python, the word is called 'Key', and the definition  a 'value'. The values in a dictionary aren't nmbered - tare similar to what thier names suggests- a directionary. in a dictionry, you have a 'index' of words, and for each of them a defintion-  in python, the word  is called 'key' and the defintion a 'value'. the values in  dictionary aren't  numbered - they aren't in any specific order, either - the key does the same thing. you can add, remove and modify the valus in the dictionaries. it use the set sign { }.\n"
   ]
  },
  {
   "cell_type": "markdown",
   "metadata": {},
   "source": [
    "# Example of List"
   ]
  },
  {
   "cell_type": "code",
   "execution_count": 5,
   "metadata": {
    "collapsed": true
   },
   "outputs": [],
   "source": [
    "cats = ['Tom', 'snappy', 'Kitty', 'jessie', 'chester']"
   ]
  },
  {
   "cell_type": "code",
   "execution_count": 6,
   "metadata": {},
   "outputs": [
    {
     "data": {
      "text/plain": [
       "'Kitty'"
      ]
     },
     "execution_count": 6,
     "metadata": {},
     "output_type": "execute_result"
    }
   ],
   "source": [
    "cats [2]"
   ]
  },
  {
   "cell_type": "code",
   "execution_count": 7,
   "metadata": {},
   "outputs": [
    {
     "data": {
      "text/plain": [
       "['Tom', 'snappy']"
      ]
     },
     "execution_count": 7,
     "metadata": {},
     "output_type": "execute_result"
    }
   ],
   "source": [
    "cats [0:2]"
   ]
  },
  {
   "cell_type": "code",
   "execution_count": 8,
   "metadata": {
    "collapsed": true
   },
   "outputs": [],
   "source": [
    "cats.append('Nehita') #append is the add to value to end of the word"
   ]
  },
  {
   "cell_type": "code",
   "execution_count": 9,
   "metadata": {},
   "outputs": [
    {
     "data": {
      "text/plain": [
       "['Tom', 'snappy', 'Kitty', 'jessie', 'chester', 'Nehita']"
      ]
     },
     "execution_count": 9,
     "metadata": {},
     "output_type": "execute_result"
    }
   ],
   "source": [
    "cats"
   ]
  },
  {
   "cell_type": "code",
   "execution_count": 12,
   "metadata": {
    "collapsed": true
   },
   "outputs": [],
   "source": [
    "del cats[3] #del is to remove a value"
   ]
  },
  {
   "cell_type": "code",
   "execution_count": 13,
   "metadata": {},
   "outputs": [
    {
     "data": {
      "text/plain": [
       "['Tom', 'snappy', 'Kitty', 'chester', 'Nehita']"
      ]
     },
     "execution_count": 13,
     "metadata": {},
     "output_type": "execute_result"
    }
   ],
   "source": [
    "cats"
   ]
  },
  {
   "cell_type": "markdown",
   "metadata": {},
   "source": [
    "# example of Tuples"
   ]
  },
  {
   "cell_type": "code",
   "execution_count": 5,
   "metadata": {
    "collapsed": true
   },
   "outputs": [],
   "source": [
    "month = ('january', 'Feburay', 'March','April', 'May','June',\\\n",
    "          'July', 'August', 'september','October',)"
   ]
  },
  {
   "cell_type": "code",
   "execution_count": 8,
   "metadata": {},
   "outputs": [
    {
     "data": {
      "text/plain": [
       "'january'"
      ]
     },
     "execution_count": 8,
     "metadata": {},
     "output_type": "execute_result"
    }
   ],
   "source": [
    "month [0]"
   ]
  },
  {
   "cell_type": "markdown",
   "metadata": {},
   "source": [
    "# Example of Dictionary"
   ]
  },
  {
   "cell_type": "code",
   "execution_count": 1,
   "metadata": {
    "collapsed": true
   },
   "outputs": [],
   "source": [
    "phonebook = {'Andrew' :6778,'Nehita':7414, \\\n",
    "             'Laura':777, 'Angela':556}"
   ]
  },
  {
   "cell_type": "code",
   "execution_count": 2,
   "metadata": {},
   "outputs": [
    {
     "data": {
      "text/plain": [
       "{'Andrew': 6778, 'Angela': 556, 'Laura': 777, 'Nehita': 7414}"
      ]
     },
     "execution_count": 2,
     "metadata": {},
     "output_type": "execute_result"
    }
   ],
   "source": [
    "phonebook"
   ]
  },
  {
   "cell_type": "code",
   "execution_count": 6,
   "metadata": {
    "collapsed": true
   },
   "outputs": [],
   "source": [
    "phonebook['ella']= 788 # to add a vaule the function"
   ]
  },
  {
   "cell_type": "code",
   "execution_count": 7,
   "metadata": {},
   "outputs": [
    {
     "data": {
      "text/plain": [
       "{'Andrew': 6778,\n",
       " 'Angela': 556,\n",
       " 'Ella': 7689,\n",
       " 'Laura': 777,\n",
       " 'Nehita': 7414,\n",
       " 'ella': 788}"
      ]
     },
     "execution_count": 7,
     "metadata": {},
     "output_type": "execute_result"
    }
   ],
   "source": [
    "phonebook"
   ]
  },
  {
   "cell_type": "code",
   "execution_count": 8,
   "metadata": {
    "collapsed": true
   },
   "outputs": [],
   "source": [
    "del phonebook['Andrew'] # to delete a value from the dicionaries"
   ]
  },
  {
   "cell_type": "code",
   "execution_count": 9,
   "metadata": {},
   "outputs": [
    {
     "data": {
      "text/plain": [
       "{'Angela': 556, 'Ella': 7689, 'Laura': 777, 'Nehita': 7414, 'ella': 788}"
      ]
     },
     "execution_count": 9,
     "metadata": {},
     "output_type": "execute_result"
    }
   ],
   "source": [
    "phonebook"
   ]
  },
  {
   "cell_type": "markdown",
   "metadata": {},
   "source": [
    "# Use operators and conditins to create simple calculator"
   ]
  },
  {
   "cell_type": "code",
   "execution_count": 2,
   "metadata": {},
   "outputs": [
    {
     "name": "stdout",
     "output_type": "stream",
     "text": [
      "Enter your first number: 5\n",
      "Enter your second number: 7\n"
     ]
    }
   ],
   "source": [
    "number_1 = input('Enter your first number: ')\n",
    "number_2 = input('Enter your second number: ')"
   ]
  },
  {
   "cell_type": "code",
   "execution_count": 1,
   "metadata": {},
   "outputs": [
    {
     "name": "stdout",
     "output_type": "stream",
     "text": [
      "Enter your first number: 23\n",
      "Enter your first number: 674\n"
     ]
    }
   ],
   "source": [
    "number_1 = int(input('Enter your first number: '))\n",
    "number_2 = int(input('Enter your first number: '))"
   ]
  },
  {
   "cell_type": "code",
   "execution_count": null,
   "metadata": {
    "collapsed": true
   },
   "outputs": [],
   "source": [
    "# Adding Operators i.e mathematical operators +, -, *, /"
   ]
  },
  {
   "cell_type": "code",
   "execution_count": 6,
   "metadata": {},
   "outputs": [
    {
     "name": "stdout",
     "output_type": "stream",
     "text": [
      "Enter your first number: 8\n",
      "Enter your second number: 3\n",
      "11\n"
     ]
    }
   ],
   "source": [
    "number_1 = int(input('Enter your first number: '))\n",
    "number_2 = int(input('Enter your second number: '))\n",
    "\n",
    "\n",
    "print(number_1 + number_2)"
   ]
  },
  {
   "cell_type": "code",
   "execution_count": 2,
   "metadata": {},
   "outputs": [
    {
     "name": "stdout",
     "output_type": "stream",
     "text": [
      "Enter your first number: 90\n",
      "Enter your second number: 717\n",
      "90 + 717 = \n",
      "807\n"
     ]
    }
   ],
   "source": [
    "number_1 = int(input('Enter your first number: '))\n",
    "number_2 = int(input('Enter your second number: '))\n",
    "\n",
    "print('{} + {} = '.format(number_1, number_2))\n",
    "\n",
    "print(number_1 + number_2)\n"
   ]
  },
  {
   "cell_type": "code",
   "execution_count": null,
   "metadata": {
    "collapsed": true
   },
   "outputs": [],
   "source": [
    "number_1 = int(input('Enter your first number: '))\n",
    "number_2 = int(input('Enter your second number: '))\n",
    "\n",
    "#Addition\n",
    "print('{} + {} = '.format(number_1, number_2))\n",
    "print(number_1 + number_2)\n",
    "\n",
    "#Subtraction\n",
    "print('{} + {} = '.format(number_1, number_2))\n",
    "print(number_1 - number_2)\n",
    "\n",
    "#Multiplication\n",
    "print('{} + {} = '.format(number_1, number_2))\n",
    "print(number_1 * number_2)\n",
    "\n",
    "#Division\n",
    "print('{} + {} = '.format(number_1, number_2))\n",
    "print(number_1 / number_2)\n",
    "\n",
    "# We added the remaining operators -,*,/ into the program but if will run the rogram at this point, the program will execute\n",
    "#all of the operator avove but however we want to limit the program to only perform onr operator at a time so to do this will\n",
    "#be using the conditional statement\n",
    "\n"
   ]
  },
  {
   "cell_type": "markdown",
   "metadata": {},
   "source": [
    "# Adding Conditional statement"
   ]
  },
  {
   "cell_type": "code",
   "execution_count": null,
   "metadata": {
    "collapsed": true
   },
   "outputs": [],
   "source": [
    "''' \n",
    "please type in the math operation you would like to complete:\n",
    "    + for addition\n",
    "    - for subtraction\n",
    "    * for mutiplication\n",
    "    / for division\n",
    "    '''\n"
   ]
  },
  {
   "cell_type": "code",
   "execution_count": null,
   "metadata": {
    "collapsed": true
   },
   "outputs": [],
   "source": [
    "operation = input(''' \n",
    "please type in the math operation you would like to complete:\n",
    "    + for addition\n",
    "    - for subtraction\n",
    "    * for mutiplication\n",
    "    / for division\n",
    "    ''')\n",
    "\n",
    "number_1 = int(input('Enter your first number: '))\n",
    "number_2 = int(input('Enter your second number: '))\n",
    "\n",
    "print('{} + {} = '.format(number_1, number_2))\n",
    "print(number_1 + number_2)\n",
    "\n",
    "\n",
    "print('{} + {} = '.format(number_1, number_2))\n",
    "print(number_1 - number_2)\n",
    "\n",
    "\n",
    "print('{} + {} = '.format(number_1, number_2))\n",
    "print(number_1 * number_2)\n",
    "\n",
    "\n",
    "print('{} + {} = '.format(number_1, number_2))\n",
    "print(number_1 / number_2)\n"
   ]
  },
  {
   "cell_type": "code",
   "execution_count": 1,
   "metadata": {},
   "outputs": [
    {
     "name": "stdout",
     "output_type": "stream",
     "text": [
      " \n",
      "please type in the math operation you would like to complete:\n",
      "    + for addition\n",
      "    - for subtraction\n",
      "    * for mutiplication\n",
      "    / for division\n",
      "    *\n",
      "Enter your first number: 58\n",
      "Enter your second number: 40\n",
      "58 + 40 = \n",
      "2320\n"
     ]
    }
   ],
   "source": [
    "operation = input(''' \n",
    "please type in the math operation you would like to complete:\n",
    "    + for addition\n",
    "    - for subtraction\n",
    "    * for mutiplication\n",
    "    / for division\n",
    "    ''')\n",
    "\n",
    "number_1 = int(input('Enter your first number: '))\n",
    "number_2 = int(input('Enter your second number: '))\n",
    "\n",
    "if operation == '+':\n",
    "    print('{} + {} = '.format(number_1, number_2))\n",
    "    print(number_1 + number_2)\n",
    "\n",
    "elif operation == '-':\n",
    "    print('{} + {} = '.format(number_1, number_2))\n",
    "    print(number_1 - number_2)\n",
    "\n",
    "elif operation == '*':\n",
    "    print('{} + {} = '.format(number_1, number_2))\n",
    "    print(number_1 * number_2)\n",
    "\n",
    "elif operation == '/':\n",
    "    print('{} + {} = '.format(number_1, number_2))\n",
    "    print(number_1 / number_2)\n",
    "    \n",
    "else:\n",
    "    print('You have not typed a valid operator, please run the program again.')\n",
    "\n",
    "\n"
   ]
  },
  {
   "cell_type": "code",
   "execution_count": null,
   "metadata": {
    "collapsed": true
   },
   "outputs": [],
   "source": []
  }
 ],
 "metadata": {
  "kernelspec": {
   "display_name": "Python 3",
   "language": "python",
   "name": "python3"
  },
  "language_info": {
   "codemirror_mode": {
    "name": "ipython",
    "version": 3
   },
   "file_extension": ".py",
   "mimetype": "text/x-python",
   "name": "python",
   "nbconvert_exporter": "python",
   "pygments_lexer": "ipython3",
   "version": "3.6.3"
  }
 },
 "nbformat": 4,
 "nbformat_minor": 2
}
