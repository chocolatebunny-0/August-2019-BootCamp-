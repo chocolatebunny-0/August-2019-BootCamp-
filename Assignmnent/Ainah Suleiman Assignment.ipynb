{
 "cells": [
  {
   "cell_type": "markdown",
   "metadata": {},
   "source": [
    "## Assignment:\n",
    "## Difference between a tuple, list and dictionary\n",
    "\n",
    "### A tuple is a dictionary that cannot be edited while \n",
    "### A list is a couple of values enclosed in a square bracket\n",
    "### A dictionary tells the frequency of a variable in a list. It is usually enclosed in curly brackets.\n"
   ]
  },
  {
   "cell_type": "markdown",
   "metadata": {},
   "source": [
    "## -Create a simple calculator where you can input two numbers using the conditional statement and operators you learned"
   ]
  },
  {
   "cell_type": "code",
   "execution_count": 2,
   "metadata": {},
   "outputs": [
    {
     "ename": "IndentationError",
     "evalue": "expected an indented block (<ipython-input-2-32279eb0ebf7>, line 29)",
     "output_type": "error",
     "traceback": [
      "\u001b[1;36m  File \u001b[1;32m\"<ipython-input-2-32279eb0ebf7>\"\u001b[1;36m, line \u001b[1;32m29\u001b[0m\n\u001b[1;33m    print(num1, \"/\", num2, \"=\", divide(num1, num2))\u001b[0m\n\u001b[1;37m        ^\u001b[0m\n\u001b[1;31mIndentationError\u001b[0m\u001b[1;31m:\u001b[0m expected an indented block\n"
     ]
    }
   ],
   "source": [
    "def add(x,y):\n",
    "    return x-y\n",
    "def multiply(x,y):\n",
    "    return x*y\n",
    "def divide(x,y):\n",
    "    return x/y\n",
    "\n",
    "print(\"select operation\")\n",
    "print(\"1.Add\")\n",
    "print(\"2.Subtract\")\n",
    "print(\"3.Multiply\")\n",
    "print(\"4.Divide\")\n",
    "\n",
    "choice = input(\"enter choice (1/2/3/4) :\")\n",
    "\n",
    "num1= int(input(\"enter first number: \"))\n",
    "num2= int(input(\"enter second number: \"))\n",
    "\n",
    "if choice == \"1\":\n",
    "    print(num1, \"+\", num2, \"=\", add(num1, num2))\n",
    "    \n",
    "elif choice ==\"2\":\n",
    "    print(num1, \"-\", num2, \"=\", subtract(num1, num2))\n",
    "    \n",
    "elif choice ==\"3\":\n",
    "    print(num1, \"*\", num2, \"=\", multiply(num1, num2))\n",
    "\n",
    "elif choice ==\"4\":\n",
    "print(num1, \"/\", num2, \"=\", divide(num1, num2))\n",
    "\n",
    "else:\n",
    "    print(\"invalid input\")"
   ]
  },
  {
   "cell_type": "code",
   "execution_count": null,
   "metadata": {},
   "outputs": [],
   "source": []
  }
 ],
 "metadata": {
  "kernelspec": {
   "display_name": "Python 3",
   "language": "python",
   "name": "python3"
  },
  "language_info": {
   "codemirror_mode": {
    "name": "ipython",
    "version": 3
   },
   "file_extension": ".py",
   "mimetype": "text/x-python",
   "name": "python",
   "nbconvert_exporter": "python",
   "pygments_lexer": "ipython3",
   "version": "3.7.1"
  }
 },
 "nbformat": 4,
 "nbformat_minor": 2
}
